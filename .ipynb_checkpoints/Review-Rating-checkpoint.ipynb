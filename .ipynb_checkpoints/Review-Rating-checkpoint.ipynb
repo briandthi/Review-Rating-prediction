{
 "cells": [
  {
   "cell_type": "markdown",
   "metadata": {},
   "source": [
    "# **Evaluation de commentaires**\n",
    "## Thêmes abordés\n",
    "* data correction\n",
    "* split train-dev-test\n",
    "* embedding\n",
    "* one hot encoder\n",
    "* LTSM\n",
    "* data visualization"
   ]
  },
  {
   "cell_type": "code",
   "execution_count": 1,
   "metadata": {},
   "outputs": [],
   "source": [
    "from utils2 import * \n",
    "import tensorflow as tf\n",
    "from tensorflow import keras\n",
    "import pandas as pd\n",
    "import numpy as np\n",
    "%matplotlib inline\n",
    "import matplotlib.pyplot as plt\n",
    "\n",
    "assert tf.__version__ >= \"2.0\"\n",
    "\n",
    "np.random.seed(0)"
   ]
  },
  {
   "cell_type": "markdown",
   "metadata": {},
   "source": [
    "# **Pistes de travail**\n",
    "\n",
    "* Tester tensorBoard pour visualiser loss/accuracy/other...\n",
    "* Automatiser fine-tuning hyperparameters (dichotomie peut-être, keras tuner)\n",
    "* #### Séparer chaque les commentaire en phrase, chaque phrase à la note du commentaire plus un champ correspondant au numéro du comm. Le but est d'éviter d'avoir trop de disparité de longueur entre les commentaire"
   ]
  },
  {
   "cell_type": "code",
   "execution_count": 90,
   "metadata": {},
   "outputs": [],
   "source": [
    "# Data paths\n",
    "EMBEDDING_PATH = \"./data/glove.6B.50d.txt\"\n",
    "COMMENT_PATH = \"./data/tripadvisor_hotel_reviews.csv\"\n",
    "\n",
    "# Data path after split and save\n",
    "TRAIN_PATH = \"./data/train_set.csv\"\n",
    "DEV_PATH = \"./data/dev_set.csv\"\n",
    "TEST_PATH =\"./data/test_set.csv\"\n",
    "\n",
    "# Global variable\n",
    "VOCAB_SIZE = 10000\n",
    "NUM_OOV_BUCKETS = 1000"
   ]
  },
  {
   "cell_type": "markdown",
   "metadata": {},
   "source": [
    "### Première piste de pré traitement\n",
    "* Ajout d'une colonne correspondant à la longueur du commentaire \n",
    "* Catégorisation des longueurs en intervalles"
   ]
  },
  {
   "cell_type": "code",
   "execution_count": 3,
   "metadata": {},
   "outputs": [],
   "source": [
    "# Load embedding\n",
    "word_to_index, index_to_word, word_to_vec_map = read_glove_vecs(EMBEDDING_PATH)"
   ]
  },
  {
   "cell_type": "code",
   "execution_count": 4,
   "metadata": {},
   "outputs": [],
   "source": [
    "# Load data\n",
    "dataset = pd.read_csv(COMMENT_PATH)\n",
    "dataset_numpy = np.array(dataset)"
   ]
  },
  {
   "cell_type": "code",
   "execution_count": 5,
   "metadata": {},
   "outputs": [],
   "source": [
    "# Création d'esapce entre les ponctuation en les mots\n",
    "for comment, rating in dataset_numpy:\n",
    "    comment = ponctuation_padding(comment)"
   ]
  },
  {
   "cell_type": "code",
   "execution_count": 49,
   "metadata": {},
   "outputs": [
    {
     "data": {
      "image/png": "[encoded data removed]",
      "text/plain": [
       "<Figure size 432x288 with 1 Axes>"
      ]
     },
     "metadata": {
      "needs_background": "light"
     },
     "output_type": "display_data"
    },
    {
     "data": {
      "image/png": "[encoded data removed]",
      "text/plain": [
       "<Figure size 432x288 with 1 Axes>"
      ]
     },
     "metadata": {
      "needs_background": "light"
     },
     "output_type": "display_data"
    },
    {
     "name": "stdout",
     "output_type": "stream",
     "text": [
      "       Length of sentences\n",
      "count         20491.000000\n",
      "mean            724.896882\n",
      "std             689.101093\n",
      "min              44.000000\n",
      "25%             339.000000\n",
      "50%             537.000000\n",
      "75%             859.000000\n",
      "max           13501.000000\n"
     ]
    }
   ],
   "source": [
    "dataset_of_length = pd.DataFrame([len(comment[0]) for comment in dataset_numpy], columns=['Length of sentences'])\n",
    "dataset_of_length.hist(bins=100)\n",
    "plt.show()\n",
    "dataset[\"comments_length\"] = dataset_of_length\n",
    "dataset[\"length_cat\"] = pd.cut(dataset[\"comments_length\"], \n",
    "                               bins = [0, 250, 500, 1000, 2000, np.inf],\n",
    "                              labels = [1, 2, 3, 4, 5])\n",
    "dataset[\"length_cat\"].hist()\n",
    "plt.show()\n",
    "print(dataset_of_length.describe())"
   ]
  },
  {
   "cell_type": "code",
   "execution_count": 51,
   "metadata": {},
   "outputs": [],
   "source": [
    "from sklearn.model_selection import StratifiedShuffleSplit, train_test_split\n",
    "\n",
    "# Stratified split\n",
    "split = StratifiedShuffleSplit(n_splits=1, test_size=0.2, random_state=0)\n",
    "for train_index, test_index in split.split(dataset, dataset[\"length_cat\"]):\n",
    "    strat_train_set = dataset.loc[train_index]\n",
    "    strat_test_set = dataset.loc[test_index]\n",
    "    \n",
    "\n",
    "\n",
    "\n",
    "#Random split\n",
    "rand_train_set, rand_test_set = train_test_split(dataset, test_size=0.2, random_state=0)\n",
    "\n",
    "\n"
   ]
  },
  {
   "cell_type": "code",
   "execution_count": null,
   "metadata": {},
   "outputs": [],
   "source": [
    "print(\"Stratified split repartition:\\n\",\n",
    "      strat_test_set[\"length_cat\"].value_counts() / len(strat_test_set)*100,\n",
    "      \"\\nRandom split repartition:\\n\",\n",
    "      rand_test_set[\"length_cat\"].value_counts() / len(rand_test_set)*100,\n",
    "      \"\\Initial repartition:\\n\",\n",
    "      dataset[\"length_cat\"].value_counts() / len(dataset)*100)\n",
    "      "
   ]
  },
  {
   "cell_type": "code",
   "execution_count": 52,
   "metadata": {},
   "outputs": [],
   "source": [
    "train_set, test_set = strat_train_set, strat_test_set"
   ]
  },
  {
   "cell_type": "markdown",
   "metadata": {},
   "source": [
    "### Seconde piste de pré traitement\n",
    "* Limitation de la taille des commentaire\n",
    "* Suppression de la ponctuation"
   ]
  },
  {
   "cell_type": "markdown",
   "metadata": {},
   "source": [
    "#### Séparation et sauvegarde des différents jeux de données"
   ]
  },
  {
   "cell_type": "code",
   "execution_count": 77,
   "metadata": {},
   "outputs": [],
   "source": [
    "from sklearn.model_selection import train_test_split\n",
    "\n",
    "# Load data\n",
    "dataset = pd.read_csv(COMMENT_PATH)\n",
    "dataset.info()\n",
    "\n",
    "# Split Train Dev Test\n",
    "\n",
    "train_set, test_set = train_test_split(dataset, test_size=0.2, random_state=0)\n",
    "dev_set, test_set = train_test_split(test_set, test_size=0.5, random_state=0)\n",
    "\n",
    "# Save split data set\n",
    "train_set.to_csv(\"./data/train_set.csv\", sep=\";\", columns =[\"Review\", \"Rating\"])\n",
    "dev_set.to_csv(\"./data/dev_set.csv\", sep=\";\", columns =[\"Review\", \"Rating\"])\n",
    "test_set.to_csv(\"./data/test_set.csv\", sep=\";\", columns =[\"Review\", \"Rating\"])"
   ]
  },
  {
   "cell_type": "code",
   "execution_count": 76,
   "metadata": {},
   "outputs": [
    {
     "name": "stdout",
     "output_type": "stream",
     "text": [
      "<class 'pandas.core.frame.DataFrame'>\n",
      "RangeIndex: 16392 entries, 0 to 16391\n",
      "Data columns (total 3 columns):\n",
      " #   Column      Non-Null Count  Dtype \n",
      "---  ------      --------------  ----- \n",
      " 0   Unnamed: 0  16392 non-null  int64 \n",
      " 1   Review      16392 non-null  object\n",
      " 2   Rating      16392 non-null  int64 \n",
      "dtypes: int64(2), object(1)\n",
      "memory usage: 384.3+ KB\n"
     ]
    }
   ],
   "source": [
    "data = pd.read_csv(TRAIN_PATH, delimiter = \";\")\n",
    "data.info()"
   ]
  },
  {
   "cell_type": "markdown",
   "metadata": {},
   "source": [
    "#### Chargement et prétraitement"
   ]
  },
  {
   "cell_type": "code",
   "execution_count": 81,
   "metadata": {},
   "outputs": [],
   "source": [
    "def csv_reader_dataset(filepath):\n",
    "    \"\"\"load data frame and convert to tf tensor\"\"\"\n",
    "    dataset = pd.read_csv(filepath,delimiter = \";\")\n",
    "    review, rating = np.array(dataset[\"Review\"]), np.array(dataset[\"Rating\"])\n",
    "    data = tf.data.Dataset.from_tensor_slices((review, rating))\n",
    "    return data"
   ]
  },
  {
   "cell_type": "code",
   "execution_count": 48,
   "metadata": {},
   "outputs": [],
   "source": [
    "def preprocess(X_batch, y_batch):\n",
    "    \"\"\" limit size of comments to 300\n",
    "    only keep letters and quotes\n",
    "    split and pad with <pad>\"\"\"\n",
    "    X_batch = tf.strings.substr(X_batch, 0, 300)\n",
    "    X_batch = tf.strings.regex_replace(X_batch, b\"<\\\\s*/?>\", b\" \")\n",
    "    X_batch = tf.strings.regex_replace(X_batch, b\"[^a-zA-Z']\", b\" \")\n",
    "    X_batch = tf.strings.split(X_batch)\n",
    "    return X_batch.to_tensor(default_value=b\"<pad>\"), y_batch"
   ]
  },
  {
   "cell_type": "code",
   "execution_count": 84,
   "metadata": {},
   "outputs": [
    {
     "name": "stdout",
     "output_type": "stream",
     "text": [
      "[(b'<pad>', 134397), (b'hotel', 22746), (b'room', 13758), (b'great', 9901), (b'not', 8767), (b'staff', 7078), (b'stayed', 6824), (b'location', 6479), (b'stay', 6152), (b'good', 6044)]\n"
     ]
    }
   ],
   "source": [
    "from collections import Counter\n",
    "\n",
    "train_dataset = csv_reader_dataset(TRAIN_PATH)\n",
    "\n",
    "vocabulary = Counter()\n",
    "\n",
    "for X_batch, y_batch in train_dataset.batch(32).map(preprocess):\n",
    "    for review in X_batch:\n",
    "        vocabulary.update(list(review.numpy()))\n",
    "        \n",
    "print(vocabulary.most_common()[:10])"
   ]
  },
  {
   "cell_type": "code",
   "execution_count": 88,
   "metadata": {},
   "outputs": [],
   "source": [
    "# Keep the first *VOCAB SIZE* words\n",
    "truncated_vocab = [word for word, count in vocabulary.most_common()[:VOCAB_SIZE]]\n",
    "words = tf.constant(truncated_vocab)"
   ]
  },
  {
   "cell_type": "code",
   "execution_count": 93,
   "metadata": {},
   "outputs": [],
   "source": [
    "# Words to id\n",
    "word_id = tf.range(len(truncated_vocab), dtype = tf.int64)\n",
    "vocab_init = tf.lookup.KeyValueTensorInitializer(words, word_id)\n",
    "table = tf.lookup.StaticVocabularyTable(vocab_init, NUM_OOV_BUCKETS)"
   ]
  },
  {
   "cell_type": "code",
   "execution_count": 94,
   "metadata": {},
   "outputs": [
    {
     "data": {
      "text/plain": [
       "<tf.Tensor: shape=(1, 4), dtype=int64, numpy=array([[10745,    93,  2786, 10300]])>"
      ]
     },
     "execution_count": 94,
     "metadata": {},
     "output_type": "execute_result"
    }
   ],
   "source": [
    "table.lookup(tf.constant([b\"This restaurant was greeat\".split()]))"
   ]
  },
  {
   "cell_type": "markdown",
   "metadata": {},
   "source": [
    "Pour aller plus loin : regarder tft.compute_and_apply_vocaulary()"
   ]
  },
  {
   "cell_type": "code",
   "execution_count": null,
   "metadata": {},
   "outputs": [],
   "source": []
  }
 ],
 "metadata": {
  "kernelspec": {
   "display_name": "Python 3",
   "language": "python",
   "name": "python3"
  },
  "language_info": {
   "codemirror_mode": {
    "name": "ipython",
    "version": 3
   },
   "file_extension": ".py",
   "mimetype": "text/x-python",
   "name": "python",
   "nbconvert_exporter": "python",
   "pygments_lexer": "ipython3",
   "version": "3.6.9"
  }
 },
 "nbformat": 4,
 "nbformat_minor": 4
}
